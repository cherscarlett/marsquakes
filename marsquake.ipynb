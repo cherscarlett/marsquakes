{
 "cells": [
  {
   "cell_type": "markdown",
   "id": "5bdc077f-3017-4cf5-b6a9-ad8f475fb848",
   "metadata": {},
   "source": [
    "# Marsquakes: Analyzing seismic activity on Mars\n",
    "\n",
    "In this notebook we will obtain seismic data from NASA's Interior Exploration using Seismic Investigations, Geodesy and Heat Transport (InSight) mission, a robotic lander designed to study the interior of Mars.\n",
    "\n",
    "## Import"
   ]
  },
  {
   "cell_type": "code",
   "execution_count": 189,
   "id": "330978a4-3d75-485b-a830-33572f48f62b",
   "metadata": {},
   "outputs": [],
   "source": [
    "from datetime import datetime, timedelta\n",
    "from obspy import read_events\n",
    "from math import pi, floor, ceil\n",
    "import glob\n",
    "import cartopy.crs as ccrs\n",
    "import matplotlib.pyplot as plt"
   ]
  },
  {
   "cell_type": "markdown",
   "id": "78627cb5-7d10-4f99-857d-d6d9d147bdca",
   "metadata": {},
   "source": [
    "# Data\n",
    "\n",
    "In the next code block we will manually input the R1, R2, & R3 gathered from [NASA InSight in IRIS](http://ds.iris.edu/ds/nodes/dmc/tools/mars-events/). We will use these times to find the distance of the origin of the quake from the station (ELYSE) and use that as a search radius for quakes."
   ]
  },
  {
   "cell_type": "code",
   "execution_count": 178,
   "id": "5c7bbb4c-a6de-40ef-8ea7-84cc538cd465",
   "metadata": {},
   "outputs": [],
   "source": [
    "# R1, R2, R3 of May 4th mag-4.6 quake\n",
    "R1 = datetime(2022, 5, 4, 23, 35, 58)\n",
    "R2 = datetime(2022, 5, 5, 1, 14, 5)\n",
    "R3 = datetime(2022, 5, 5, 1, 38, 57)\n",
    "\n",
    "T = (R3 - R2) / 2 # time from origin to station\n",
    "Tcircle = R3 - R1 # time around the planet\n",
    "\n",
    "event_time = R1 - T # origin time of the event\n",
    "\n",
    "V = 2 * pi / (Tcircle.seconds) # velocity in radians per second\n",
    "\n",
    "D = V * T.seconds # distance from origin to station in radians\n",
    "\n",
    "# convert to degrees and round fuzzy ±1\n",
    "Dmin = floor(D * (180 / pi) - 1)\n",
    "Dmax = ceil(D * (180 / pi) + 1)\n",
    "\n",
    "# read events in\n",
    "# ELYSE 4.502384, 135.623447\n",
    "catalog = read_events('https://service.iris.edu/irisws/mars-event/1/query?starttime=2018-11-26T00:00:00&endtime=2022-12-15T23:59:59&magnitudetype=MW&latitude=4.5024&longitude=135.6234&minradius=' + str(Dmin) +'&maxradius=' + str(Dmax))"
   ]
  },
  {
   "cell_type": "markdown",
   "id": "2ccd61e0-d1b6-4ce6-90cc-9ac598806ee1",
   "metadata": {},
   "source": [
    "Since there's only one event, we don't need to do any other filtering."
   ]
  },
  {
   "cell_type": "code",
   "execution_count": 187,
   "id": "2037047c-2d60-43c6-9a48-e2e31ef5afad",
   "metadata": {},
   "outputs": [],
   "source": [
    "event = catalog.events[0]\n",
    "\n",
    "ELYSE_lon, ELYSE_lat = 135.623447, 4.502384 # ELYSE station\n",
    "ELYSE_label = \"ELYSE station\"\n",
    "QUAKE_lon, QUAKE_lat = event.origins[0].longitude, event.origins[0].latitude\n",
    "QUAKE_label = event.event_descriptions[1].text\n",
    "QUAKE_mag = event.magnitudes[0].mag\n",
    "\n",
    "Dkm = round(D * 3396) # convert distance to km using Mars' equatorial radius"
   ]
  },
  {
   "cell_type": "code",
   "execution_count": null,
   "id": "46faec82-64d7-4f8a-8f6b-faeb0b3be562",
   "metadata": {},
   "outputs": [],
   "source": [
    "fig = plt.figure(figsize = (8,8))\n",
    "ax  = plt.axes(projection = ccrs.Mollweide())\n",
    "readname = glob.glob('mars_stellarium.png')[0] # stellarium.org\n",
    "img = plt.imread(readname)\n",
    "ax.gridlines(draw_labels=True, linestyle=\"--\")\n",
    "ax.imshow(img, origin='upper', extent=[-180, 180, -90, 90], transform=ccrs.PlateCarree(), \n",
    "          interpolation='spline36', regrid_shape=4000)\n",
    "ax.set_title('May 4, 2022 (InSight Sol 1222) Marsquake \\n' + str(Dkm) + 'km from ELYSE station at ' + QUAKE_label)\n",
    "\n",
    "plt.plot([ELYSE_lon], [ELYSE_lat],\n",
    "         color='red', markersize=10, marker='v',\n",
    "         transform=ccrs.Geodetic(),\n",
    "         )\n",
    "\n",
    "plt.plot([QUAKE_lon], [QUAKE_lat],\n",
    "         color='yellow', markersize=10, marker='*',\n",
    "         transform=ccrs.Geodetic(),\n",
    "         )\n",
    "\n",
    "plt.text(ELYSE_lon, ELYSE_lat + 8, ELYSE_label,\n",
    "         color='white',\n",
    "         fontweight='semibold',\n",
    "         horizontalalignment='center',\n",
    "         transform=ccrs.Geodetic())\n",
    "\n",
    "plt.text(QUAKE_lon + 4, QUAKE_lat - 10, QUAKE_label,\n",
    "         color='lightgray',\n",
    "         fontweight='light',\n",
    "         fontstyle='italic',\n",
    "         horizontalalignment='right',\n",
    "         transform=ccrs.Geodetic())\n",
    "\n",
    "plt.text(QUAKE_lon - 1, QUAKE_lat + 6, QUAKE_mag,\n",
    "         color='white',\n",
    "         fontweight='bold',\n",
    "         fontsize= 'x-large',\n",
    "         horizontalalignment='center',\n",
    "         transform=ccrs.Geodetic())\n",
    "\n",
    "plt.show()"
   ]
  },
  {
   "cell_type": "code",
   "execution_count": null,
   "id": "bd5cbc6b-f24f-45fd-82eb-6e56a4791396",
   "metadata": {},
   "outputs": [],
   "source": []
  }
 ],
 "metadata": {
  "kernelspec": {
   "display_name": "Python 3 (ipykernel)",
   "language": "python",
   "name": "python3"
  },
  "language_info": {
   "codemirror_mode": {
    "name": "ipython",
    "version": 3
   },
   "file_extension": ".py",
   "mimetype": "text/x-python",
   "name": "python",
   "nbconvert_exporter": "python",
   "pygments_lexer": "ipython3",
   "version": "3.11.7"
  }
 },
 "nbformat": 4,
 "nbformat_minor": 5
}
